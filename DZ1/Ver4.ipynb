{
 "cells": [
  {
   "cell_type": "code",
   "execution_count": 2,
   "metadata": {},
   "outputs": [
    {
     "name": "stdout",
     "output_type": "stream",
     "text": [
      "Фраза 2 длиннее фразы 1\n"
     ]
    }
   ],
   "source": [
    "#Задание №1.\n",
    "'''Даны 2 переменных, в которых хранятся строки произвольной длины: phrase_1 и phrase_2.\n",
    "Напишите код, который проверяет какая из этих строк длиннее.'''\n",
    "\n",
    "phrase_1 = 'Насколько'\n",
    "phrase_2 = '640Кб должно'\n",
    "\n",
    "if len(phrase_1)>len(phrase_2):\n",
    "    print (\"Фраза 1 длиннее фразы 2\")\n",
    "elif len(phrase_1)<len(phrase_2):\n",
    "    print (\"Фраза 2 длиннее фразы 1\")\n",
    "else:\n",
    "    print (\"Фразы 1 и 2 равны по длине\")"
   ]
  },
  {
   "cell_type": "code",
   "execution_count": null,
   "metadata": {},
   "outputs": [],
   "source": []
  },
  {
   "cell_type": "code",
   "execution_count": 136,
   "metadata": {
    "scrolled": true
   },
   "outputs": [
    {
     "name": "stdout",
     "output_type": "stream",
     "text": [
      "2021  - невисокосный год\n"
     ]
    }
   ],
   "source": [
    "#Задание №2.\n",
    "'''Дана переменная, в которой хранится четырехзначное число (год). \n",
    "Необходимо написать программу, которая выведет, является ли данный год високосным или обычным.'''\n",
    "\n",
    "year = 2021\n",
    "\n",
    "if year % 4 == 0:\n",
    "    print (year, \" - високосный год\")\n",
    "else:\n",
    "    print (year, \" - невисокосный год\")"
   ]
  },
  {
   "cell_type": "code",
   "execution_count": null,
   "metadata": {},
   "outputs": [],
   "source": []
  },
  {
   "cell_type": "code",
   "execution_count": 133,
   "metadata": {},
   "outputs": [
    {
     "name": "stdout",
     "output_type": "stream",
     "text": [
      "Месяц рождения: Июнь\n",
      "День месяца рождения: 16\n",
      "Близнецы\n"
     ]
    }
   ],
   "source": [
    "# Задание №3.\n",
    "'''Необходимо написать программу, которая будет запрашивать у пользователя месяц и \n",
    "дату рождения и выводить соответствующий знак зодиака.'''\n",
    "\n",
    "month = input('Месяц рождения: ')\n",
    "day = int(input('День месяца рождения: '))\n",
    "if month == 'Январь' and 32 > day >= 21     or month == 'Февраль' and 0 < day < 21:\n",
    "    print ('Водолей')\n",
    "elif month == 'Февраль' and 30 > day >= 21  or month == 'Март' and 0 < day < 21:\n",
    "    print ('Рыба')\n",
    "elif month == 'Март' and 32 > day >= 21     or month == 'Апрель' and 0 < day < 21:\n",
    "    print ('Овен')\n",
    "elif month == 'Апрель' and 31 > day >= 21   or month == 'Май' and 0 < day < 21:\n",
    "    print ('Телец')\n",
    "elif month == 'Май' and 32 > day >= 21      or month == 'Июнь' and 0 < day < 22:\n",
    "    print ('Близнецы')\n",
    "elif month == 'Июнь' and 31 > day >= 22     or month == 'Июль' and 0 < day < 23:\n",
    "    print ('Рак')\n",
    "elif month == 'Июль' and 32 > day >= 23     or month == 'Август' and 0 < day < 24:\n",
    "    print ('Лев')\n",
    "elif month == 'Август' and 32 > day >= 24   or month == 'Сентябрь' and 0 < day < 24:\n",
    "    print ('Дева')\n",
    "elif month == 'Сентябрь' and 31 > day >= 24 or month == 'Октябрь' and 0 < day < 24:\n",
    "    print ('Весы')\n",
    "elif month == 'Октябрь' and 32 > day >= 24  or month == 'Ноябрь' and 0 < day < 23:\n",
    "    print ('Скорпион')\n",
    "elif month == 'Ноябрь' and 31 > day >= 23   or month == 'Декабрь' and 0 < day < 22:\n",
    "    print ('Стрелец')\n",
    "elif month == 'Декабрь' and 32 > day >= 22  or month == 'Январь' and 0 < day < 21:\n",
    "    print ('Козерог')\n",
    "else:\n",
    "    print('Неверная дата')"
   ]
  },
  {
   "cell_type": "code",
   "execution_count": null,
   "metadata": {},
   "outputs": [],
   "source": []
  },
  {
   "cell_type": "code",
   "execution_count": 137,
   "metadata": {},
   "outputs": [
    {
     "name": "stdout",
     "output_type": "stream",
     "text": [
      "Коробка №2\n"
     ]
    }
   ],
   "source": [
    "#Задание №4.\n",
    "'''Вам нужно написать программу для подбора упаковок по размерам товара. Размеры хранятся в переменных (в сантиметрах):\n",
    "\n",
    "width = 10\n",
    "length = 2\n",
    "height = 5\n",
    "Используйте следующие правила:\n",
    "\n",
    "если каждое из трех измерений менее 15 сантиметров, то выведите на экран \"Коробка №1\";\n",
    "если хотя бы одно из измерений больше 15 сантиметров, но менее 50 сантиметров, то выводите \"Коробка №2\";\n",
    "если длина товара больше 2 метров, то выводите \"Упаковка для лыж\";\n",
    "во всех остальных случаях выводите \"Стандартная коробка №3\".'''\n",
    "\n",
    "width = 30\n",
    "length = 20\n",
    "height = 5\n",
    "\n",
    "if width < 15 and length < 15 and height < 15:\n",
    "    print (\"Коробка №1\")\n",
    "elif 15 < width < 50 or 15 < length < 50 or 15 < height < 50:\n",
    "    print (\"Коробка №2\")\n",
    "elif length > 200:\n",
    "    print (\"Упаковка для лыж\")\n",
    "else:\n",
    "    print (\"Стандартная коробка №3\")"
   ]
  },
  {
   "cell_type": "code",
   "execution_count": null,
   "metadata": {},
   "outputs": [],
   "source": []
  },
  {
   "cell_type": "code",
   "execution_count": 138,
   "metadata": {},
   "outputs": [
    {
     "name": "stdout",
     "output_type": "stream",
     "text": [
      "Фигура: Круг\n",
      "Радиус: 4\n",
      "Площадь: 50.24\n"
     ]
    }
   ],
   "source": [
    "# Задание №6 доп.\n",
    "'''Напишите программу, которая сможет вычислять площади трех фигур (круг, треугольник и прямоугольник). \n",
    "Тип фигуры запрашиваем через пользовательский ввод, после чего делаем запрос характеристик фигуры:\n",
    "\n",
    "если пользователь выбрал круг, запрашиваем его радиус,\n",
    "если треугольник – длины трех его сторон;\n",
    "если прямоугольник – длины двух его сторон.'''\n",
    "\n",
    "form = input('Фигура: ')\n",
    "\n",
    "if form == 'Круг':\n",
    "    r = int(input('Радиус: '))\n",
    "    print ('Площадь:', 3.14*r*r)\n",
    "elif form == 'Треугольник':\n",
    "    a = int(input('Длина стороны a: '))\n",
    "    b = int(input('Длина стороны b: '))\n",
    "    c = int(input('Длина стороны c: '))\n",
    "    p = (a + b + c)/2\n",
    "    print ('Площадь:', (p * (p - a)*(p - b)*(p - c))**0.5)\n",
    "elif form == 'Прямоугольник':\n",
    "    a = int(input('Длина стороны a: '))\n",
    "    b = int(input('Длина стороны b: '))\n",
    "    print ('Площадь:', a * b)\n",
    "else:\n",
    "    print ('Фигура задана некорректно')"
   ]
  }
 ],
 "metadata": {
  "kernelspec": {
   "display_name": "Python 3",
   "language": "python",
   "name": "python3"
  }
 },
 "nbformat": 4,
 "nbformat_minor": 4
}
